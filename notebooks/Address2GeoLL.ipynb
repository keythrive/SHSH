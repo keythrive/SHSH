{
  "nbformat": 4,
  "nbformat_minor": 0,
  "metadata": {
    "colab": {
      "provenance": []
    },
    "kernelspec": {
      "name": "python3",
      "display_name": "Python 3"
    },
    "language_info": {
      "name": "python"
    }
  },
  "cells": [
    {
      "cell_type": "code",
      "source": [
        "pip install xmltodict folium"
      ],
      "metadata": {
        "id": "9cog0lKCOBDg"
      },
      "execution_count": null,
      "outputs": []
    },
    {
      "cell_type": "code",
      "execution_count": 34,
      "metadata": {
        "colab": {
          "base_uri": "https://localhost:8080/",
          "height": 830
        },
        "id": "4v_s6BcfLVDJ",
        "outputId": "ef8ef57b-8718-4a6d-9ac1-97364cc43a91"
      },
      "outputs": [
        {
          "output_type": "execute_result",
          "data": {
            "text/plain": [
              "<folium.folium.Map at 0x7983aa0547f0>"
            ],
            "text/html": [
              "<div style=\"width:100%;\"><div style=\"position:relative;width:100%;height:0;padding-bottom:60%;\"><span style=\"color:#565656\">Make this Notebook Trusted to load map: File -> Trust Notebook</span><iframe srcdoc=\"&lt;!DOCTYPE html&gt;\n",
              "&lt;html&gt;\n",
              "&lt;head&gt;\n",
              "    \n",
              "    &lt;meta http-equiv=&quot;content-type&quot; content=&quot;text/html; charset=UTF-8&quot; /&gt;\n",
              "    \n",
              "        &lt;script&gt;\n",
              "            L_NO_TOUCH = false;\n",
              "            L_DISABLE_3D = false;\n",
              "        &lt;/script&gt;\n",
              "    \n",
              "    &lt;style&gt;html, body {width: 100%;height: 100%;margin: 0;padding: 0;}&lt;/style&gt;\n",
              "    &lt;style&gt;#map {position:absolute;top:0;bottom:0;right:0;left:0;}&lt;/style&gt;\n",
              "    &lt;script src=&quot;https://cdn.jsdelivr.net/npm/leaflet@1.9.3/dist/leaflet.js&quot;&gt;&lt;/script&gt;\n",
              "    &lt;script src=&quot;https://code.jquery.com/jquery-1.12.4.min.js&quot;&gt;&lt;/script&gt;\n",
              "    &lt;script src=&quot;https://cdn.jsdelivr.net/npm/bootstrap@5.2.2/dist/js/bootstrap.bundle.min.js&quot;&gt;&lt;/script&gt;\n",
              "    &lt;script src=&quot;https://cdnjs.cloudflare.com/ajax/libs/Leaflet.awesome-markers/2.0.2/leaflet.awesome-markers.js&quot;&gt;&lt;/script&gt;\n",
              "    &lt;link rel=&quot;stylesheet&quot; href=&quot;https://cdn.jsdelivr.net/npm/leaflet@1.9.3/dist/leaflet.css&quot;/&gt;\n",
              "    &lt;link rel=&quot;stylesheet&quot; href=&quot;https://cdn.jsdelivr.net/npm/bootstrap@5.2.2/dist/css/bootstrap.min.css&quot;/&gt;\n",
              "    &lt;link rel=&quot;stylesheet&quot; href=&quot;https://netdna.bootstrapcdn.com/bootstrap/3.0.0/css/bootstrap.min.css&quot;/&gt;\n",
              "    &lt;link rel=&quot;stylesheet&quot; href=&quot;https://cdn.jsdelivr.net/npm/@fortawesome/fontawesome-free@6.2.0/css/all.min.css&quot;/&gt;\n",
              "    &lt;link rel=&quot;stylesheet&quot; href=&quot;https://cdnjs.cloudflare.com/ajax/libs/Leaflet.awesome-markers/2.0.2/leaflet.awesome-markers.css&quot;/&gt;\n",
              "    &lt;link rel=&quot;stylesheet&quot; href=&quot;https://cdn.jsdelivr.net/gh/python-visualization/folium/folium/templates/leaflet.awesome.rotate.min.css&quot;/&gt;\n",
              "    \n",
              "            &lt;meta name=&quot;viewport&quot; content=&quot;width=device-width,\n",
              "                initial-scale=1.0, maximum-scale=1.0, user-scalable=no&quot; /&gt;\n",
              "            &lt;style&gt;\n",
              "                #map_36d2492a46becb9028fd6a400426d9ef {\n",
              "                    position: relative;\n",
              "                    width: 100.0%;\n",
              "                    height: 100.0%;\n",
              "                    left: 0.0%;\n",
              "                    top: 0.0%;\n",
              "                }\n",
              "                .leaflet-container { font-size: 1rem; }\n",
              "            &lt;/style&gt;\n",
              "        \n",
              "&lt;/head&gt;\n",
              "&lt;body&gt;\n",
              "    \n",
              "    \n",
              "            &lt;div class=&quot;folium-map&quot; id=&quot;map_36d2492a46becb9028fd6a400426d9ef&quot; &gt;&lt;/div&gt;\n",
              "        \n",
              "&lt;/body&gt;\n",
              "&lt;script&gt;\n",
              "    \n",
              "    \n",
              "            var map_36d2492a46becb9028fd6a400426d9ef = L.map(\n",
              "                &quot;map_36d2492a46becb9028fd6a400426d9ef&quot;,\n",
              "                {\n",
              "                    center: [37.916192, 139.036413],\n",
              "                    crs: L.CRS.EPSG3857,\n",
              "                    zoom: 11,\n",
              "                    zoomControl: true,\n",
              "                    preferCanvas: false,\n",
              "                }\n",
              "            );\n",
              "\n",
              "            \n",
              "\n",
              "        \n",
              "    \n",
              "            var tile_layer_3f47a919a80c6fe3879a291ba8c63b5c = L.tileLayer(\n",
              "                &quot;https://{s}.tile.openstreetmap.org/{z}/{x}/{y}.png&quot;,\n",
              "                {&quot;attribution&quot;: &quot;Data by \\u0026copy; \\u003ca target=\\&quot;_blank\\&quot; href=\\&quot;http://openstreetmap.org\\&quot;\\u003eOpenStreetMap\\u003c/a\\u003e, under \\u003ca target=\\&quot;_blank\\&quot; href=\\&quot;http://www.openstreetmap.org/copyright\\&quot;\\u003eODbL\\u003c/a\\u003e.&quot;, &quot;detectRetina&quot;: false, &quot;maxNativeZoom&quot;: 18, &quot;maxZoom&quot;: 18, &quot;minZoom&quot;: 0, &quot;noWrap&quot;: false, &quot;opacity&quot;: 1, &quot;subdomains&quot;: &quot;abc&quot;, &quot;tms&quot;: false}\n",
              "            ).addTo(map_36d2492a46becb9028fd6a400426d9ef);\n",
              "        \n",
              "    \n",
              "            var marker_782fbfa420209564430c933eeec8e969 = L.marker(\n",
              "                [37.940044, 139.33638],\n",
              "                {}\n",
              "            ).addTo(map_36d2492a46becb9028fd6a400426d9ef);\n",
              "        \n",
              "    \n",
              "        var popup_551e36e48ecbd10dabf4ce33edf19e4d = L.popup({&quot;maxWidth&quot;: &quot;100%&quot;});\n",
              "\n",
              "        \n",
              "            \n",
              "                var html_fbf36c5b8dcb1a2578c234cd5e232c3d = $(`&lt;div id=&quot;html_fbf36c5b8dcb1a2578c234cd5e232c3d&quot; style=&quot;width: 100.0%; height: 100.0%;&quot;&gt;新潟県新発田市豊町3丁目7-6&lt;/div&gt;`)[0];\n",
              "                popup_551e36e48ecbd10dabf4ce33edf19e4d.setContent(html_fbf36c5b8dcb1a2578c234cd5e232c3d);\n",
              "            \n",
              "        \n",
              "\n",
              "        marker_782fbfa420209564430c933eeec8e969.bindPopup(popup_551e36e48ecbd10dabf4ce33edf19e4d)\n",
              "        ;\n",
              "\n",
              "        \n",
              "    \n",
              "&lt;/script&gt;\n",
              "&lt;/html&gt;\" style=\"position:absolute;width:100%;height:100%;left:0;top:0;border:none !important;\" allowfullscreen webkitallowfullscreen mozallowfullscreen></iframe></div></div>"
            ]
          },
          "metadata": {},
          "execution_count": 34
        }
      ],
      "source": [
        "import requests\n",
        "import xmltodict\n",
        "import folium\n",
        "\n",
        "GeospatialUrl = \"http://geocode.csis.u-tokyo.ac.jp/cgi-bin/simple_geocode.cgi?output=json&addr=\"\n",
        "\n",
        "def address2geo(address):\n",
        "  lat,lng = 0,0\n",
        "  s_quote = requests.utils.quote(address)\n",
        "  response = requests.get(GeospatialUrl + s_quote)\n",
        "  if response.status_code == 200:\n",
        "     json_data = xmltodict.parse(response.text)\n",
        "     data = dict(json_data)\n",
        "     result = data['results']\n",
        "     lat = result[\"candidate\"]['latitude']\n",
        "     lng = result[\"candidate\"]['longitude']\n",
        "  else:\n",
        "     print(f\"Error: {response.status_code}\")\n",
        "  return lat,lng\n",
        "\n",
        "def test_map(scale=10):\n",
        "  niigata = [37.916192,139.036413]\n",
        "  address_list = [\"新潟県新潟市中央区米山3-1-53\", \"新潟県新発田市豊町3丁目7-6\"]\n",
        "\n",
        "  for a in address_list:\n",
        "     map = folium.Map(location=niigata, zoom_start=scale)\n",
        "     lat,lng = address2geo(a)\n",
        "     folium.Marker([lat,lng], popup=a).add_to(map)\n",
        "  return map\n",
        "\n",
        "test_map(11)\n"
      ]
    },
    {
      "cell_type": "code",
      "source": [],
      "metadata": {
        "id": "Mt4s1AuOwFdw"
      },
      "execution_count": null,
      "outputs": []
    },
    {
      "cell_type": "code",
      "source": [],
      "metadata": {
        "id": "aWYQiWjqv1qQ"
      },
      "execution_count": null,
      "outputs": []
    },
    {
      "cell_type": "code",
      "source": [],
      "metadata": {
        "id": "I3V1L4P3vJBB"
      },
      "execution_count": null,
      "outputs": []
    },
    {
      "cell_type": "code",
      "source": [],
      "metadata": {
        "id": "Q192rYbPvKUY"
      },
      "execution_count": null,
      "outputs": []
    }
  ]
}