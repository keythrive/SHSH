{
  "nbformat": 4,
  "nbformat_minor": 0,
  "metadata": {
    "colab": {
      "provenance": []
    },
    "kernelspec": {
      "name": "python3",
      "display_name": "Python 3"
    },
    "language_info": {
      "name": "python"
    }
  },
  "cells": [
    {
      "cell_type": "markdown",
      "source": [
        "# 2024/2　The Laughing Man (笑い男事件発生)\n",
        "\n",
        "https://thelaughingman2024.jp/\n"
      ],
      "metadata": {
        "id": "1EmU2VAhAVxJ"
      }
    },
    {
      "cell_type": "code",
      "source": [
        "from IPython.display import HTML, display\n",
        "\n",
        "html = '''\n",
        "<!DOCTYPE HTML>\n",
        "<html><head>\n",
        "  <meta charset=\"UTF-8\">\n",
        "  <title>PoseNet example using p5.js</title>\n",
        "  <script src=\"https://cdnjs.cloudflare.com/ajax/libs/p5.js/1.3.1/p5.min.js\" crossorigin=\"\"></script>\n",
        "  <script src=\"https://cdnjs.cloudflare.com/ajax/libs/p5.js/1.3.1/addons/p5.dom.min.js\" crossorigin=\"\"></script>\n",
        "  <script src=\"https://unpkg.com/ml5@latest\" type=\"text/javascript\" crossorigin=\"\"></script>\n",
        "\n",
        "</head>\n",
        "<body>\n",
        "  <h2>2024/2　The Laughing Man 事件発生</h2>\n",
        "  <hr>\n",
        "  <!-- <p id=\"status\">Loading model...</p>\n",
        "       <button onclick=\"setup()\">起動</button>  -->\n",
        "<script>\n",
        "let video;\n",
        "let poseNet;\n",
        "let poses = [];\n",
        "let icon;\n",
        "let iconSize = 120;\n",
        "\n",
        "function setup() {\n",
        "  createCanvas(480, 360);\n",
        "\n",
        "  video = createCapture(VIDEO);\n",
        "  video.size(width, height);\n",
        " 　　// url = \"https://thelaughingman2024.jp/assets/img/img_mark_04.gif\";\n",
        "  url = \"./img_mark_04.gif\";\n",
        "\n",
        "  icon = loadImage(url);\n",
        "\n",
        "  // Create a new poseNet method with a single detection\n",
        "  poseNet = ml5.poseNet(video, modelReady);\n",
        "  // This sets up an event that fills the global variable \"poses\"\n",
        "  // with an array every time new poses are detected\n",
        "  poseNet.on('pose', function(results) {\n",
        "    poses = results;\n",
        "  });\n",
        "  // Hide the video element, and just show the canvas\n",
        "  video.hide();\n",
        "}\n",
        "\n",
        "function modelReady() {\n",
        "  // select('#status').html('Model Loaded');\n",
        "}\n",
        "\n",
        "function drawIcon() {\n",
        "  for (let i = 0; i < poses.length; i++) {\n",
        "    let pose = poses[i].pose;\n",
        "    let nose = pose.keypoints[0];\n",
        "    if (nose.score > 0.2) {\n",
        "      let x = nose.position.x;\n",
        "      let y = nose.position.y;\n",
        "      let ix = x - iconSize / 2;\n",
        "      let iy = y - iconSize / 2;\n",
        "      ix = constrain(ix, 0, width - iconSize);\n",
        "      iy = constrain(iy, 0, height - iconSize);\n",
        "      image(icon, ix, iy, iconSize, iconSize);\n",
        "    }\n",
        "  }\n",
        "}\n",
        "\n",
        "function draw() {\n",
        "  image(video, 0, 0, width, height);\n",
        "\n",
        "  // We can call both functions to draw all keypoints and the skeletons\n",
        "  // drawKeypoints();\n",
        "  // drawSkeleton();\n",
        "  drawIcon();\n",
        "}\n",
        "\n",
        "// A function to draw ellipses over the detected keypoints\n",
        "function drawKeypoints()  {\n",
        "  // Loop through all the poses detected\n",
        "  for (let i = 0; i < poses.length; i++) {\n",
        "    // For each pose detected, loop through all the keypoints\n",
        "    let pose = poses[i].pose;\n",
        "    for (let j = 0; j < pose.keypoints.length; j++) {\n",
        "      // A keypoint is an object describing a body part (like rightArm or leftShoulder)\n",
        "      let keypoint = pose.keypoints[j];\n",
        "      // Only draw an ellipse is the pose probability is bigger than 0.2\n",
        "      if (keypoint.score > 0.2) {\n",
        "        fill(0,255,0);\n",
        "        noStroke();\n",
        "        ellipse(keypoint.position.x, keypoint.position.y, 10, 10);\n",
        "      }\n",
        "    }\n",
        "  }\n",
        "}\n",
        "\n",
        "function drawSkeleton() {\n",
        "  // Loop through all the skeletons detected\n",
        "  for (let i = 0; i < poses.length; i++) {\n",
        "    let skeleton = poses[i].skeleton;\n",
        "    for (let j = 0; j < skeleton.length; j++) {\n",
        "      let partA = skeleton[j][0];\n",
        "      let partB = skeleton[j][1];\n",
        "      stroke(0,255,0);\n",
        "      line(partA.position.x, partA.position.y, partB.position.x, partB.position.y);\n",
        "    }\n",
        "  }\n",
        "}\n",
        "\n",
        "</script>\n",
        "</body></html>\n",
        "'''\n",
        "# display(HTML(html))\n",
        "\n",
        "from google.colab import files\n",
        "with open('index.html', 'w') as f:\n",
        "  f.write(html)\n",
        "files.download('index.html')"
      ],
      "metadata": {
        "id": "2cHOQmjRtDwf"
      },
      "execution_count": null,
      "outputs": []
    },
    {
      "cell_type": "code",
      "source": [
        "import requests\n",
        "url = \"https://thelaughingman2024.jp/assets/img/img_mark_04.gif\";\n",
        "\n",
        "save_name = \"img_mark_04.gif\"\n",
        "response = requests.get(url)\n",
        "file = open(save_name, \"wb\")\n",
        "for chunk in response.iter_content(100000):\n",
        "    file.write(chunk)\n",
        "file.close()\n",
        "files.download(save_name)"
      ],
      "metadata": {
        "id": "NRoqWrWrtEwe"
      },
      "execution_count": null,
      "outputs": []
    },
    {
      "cell_type": "code",
      "execution_count": 3,
      "metadata": {
        "id": "GNF6FIykobwE"
      },
      "outputs": [],
      "source": [
        "import google.colab.output\n",
        "port = 8000\n",
        "path = \"\""
      ]
    },
    {
      "cell_type": "code",
      "source": [
        "!nohup python3 -m http.server $port > server.log 2>&1 &"
      ],
      "metadata": {
        "id": "xh0WE0YepGsS"
      },
      "execution_count": 4,
      "outputs": []
    },
    {
      "cell_type": "code",
      "source": [
        "google.colab.output.serve_kernel_port_as_iframe(port, path=path)"
      ],
      "metadata": {
        "id": "G-9kZmROpbW6"
      },
      "execution_count": null,
      "outputs": []
    },
    {
      "cell_type": "code",
      "source": [
        "google.colab.output.serve_kernel_port_as_window(port, path=path)"
      ],
      "metadata": {
        "colab": {
          "base_uri": "https://localhost:8080/",
          "height": 34
        },
        "id": "sQvs8m1-pSnE",
        "outputId": "f39765de-11c5-42fe-dde3-fcb622b44972"
      },
      "execution_count": null,
      "outputs": [
        {
          "output_type": "display_data",
          "data": {
            "text/plain": [
              "<IPython.core.display.Javascript object>"
            ],
            "application/javascript": [
              "(async (port, path, text, element) => {\n",
              "    if (!google.colab.kernel.accessAllowed) {\n",
              "      return;\n",
              "    }\n",
              "    element.appendChild(document.createTextNode(''));\n",
              "    const url = await google.colab.kernel.proxyPort(port);\n",
              "    const anchor = document.createElement('a');\n",
              "    anchor.href = new URL(path, url).toString();\n",
              "    anchor.target = '_blank';\n",
              "    anchor.setAttribute('data-href', url + path);\n",
              "    anchor.textContent = text;\n",
              "    element.appendChild(anchor);\n",
              "  })(8000, \"\", \"https://localhost:8000\", window.element)"
            ]
          },
          "metadata": {}
        }
      ]
    }
  ]
}